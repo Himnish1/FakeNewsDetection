{
 "cells": [
  {
   "cell_type": "markdown",
   "metadata": {},
   "source": [
    "# Modifying Adjectives\n",
    "using https://github.com/makcedward/nlpaug to modify adjectives in the LIAR dataset\n"
   ]
  },
  {
   "cell_type": "code",
   "execution_count": 1,
   "metadata": {},
   "outputs": [],
   "source": [
    "import nlpaug.augmenter.char as nac\n",
    "import nlpaug.augmenter.word as naw\n",
    "import nlpaug.augmenter.sentence as nas"
   ]
  },
  {
   "cell_type": "code",
   "execution_count": 2,
   "metadata": {
    "scrolled": true
   },
   "outputs": [
    {
     "name": "stderr",
     "output_type": "stream",
     "text": [
      "[nltk_data] Downloading package wordnet to /Users/mudi/nltk_data...\n",
      "[nltk_data]   Unzipping corpora/wordnet.zip.\n",
      "[nltk_data] Downloading package averaged_perceptron_tagger to\n",
      "[nltk_data]     /Users/mudi/nltk_data...\n",
      "[nltk_data]   Unzipping taggers/averaged_perceptron_tagger.zip.\n"
     ]
    },
    {
     "name": "stdout",
     "output_type": "stream",
     "text": [
      "Original:\n",
      "the quick brown fox jumps over the lazy dog\n",
      "Augmented Text:\n",
      "the nimble brown fox jumps over the lazy cad\n"
     ]
    }
   ],
   "source": [
    "text = \"the quick brown fox jumps over the lazy dog\"\n",
    "\n",
    "aug = naw.SynonymAug(aug_src='wordnet')\n",
    "augmented_text = aug.augment(text)\n",
    "print(\"Original:\")\n",
    "print(text)\n",
    "print(\"Augmented Text:\")\n",
    "print(augmented_text)"
   ]
  },
  {
   "cell_type": "markdown",
   "metadata": {},
   "source": [
    "## Read in 10 lines of training data\n",
    "you will need to change home_dir"
   ]
  },
  {
   "cell_type": "code",
   "execution_count": 12,
   "metadata": {},
   "outputs": [],
   "source": [
    "import pandas as pd\n",
    "import numpy as np\n",
    "\n",
    "home_dir = \"/Volumes/My_Passport/Documents/FakeNewsDetection\""
   ]
  },
  {
   "cell_type": "code",
   "execution_count": 34,
   "metadata": {},
   "outputs": [
    {
     "name": "stdout",
     "output_type": "stream",
     "text": [
      "Original:\n",
      "Says the Annies List political group supports third-trimester abortions on demand.\n",
      "Augmented Text:\n",
      "Says the Annies Tilt political mathematical group supports third - trimester abortion on demand.\n",
      "####################\n",
      "Original:\n",
      "When did the decline of coal start? It started when natural gas took off that started to begin in (President George W.) Bushs administration.\n",
      "Augmented Text:\n",
      "When did the decline of ember start? It started when natural accelerator pedal took off that started to commence in (President George W.) Bush brass.\n",
      "####################\n",
      "Original:\n",
      "Hillary Clinton agrees with John McCain \"by voting to give George Bush the benefit of the doubt on Iran.\"\n",
      "Augmented Text:\n",
      "Hillary Clinton agrees with St. john the apostle McCain \" by vote to pay George Shrub the benefit of the doubt on Iran. \"\n",
      "####################\n",
      "Original:\n",
      "Health care reform legislation is likely to mandate free sex change surgeries.\n",
      "Augmented Text:\n",
      "Health care reform legislation be potential to mandate free sex change operating theatre.\n",
      "####################\n",
      "Original:\n",
      "The economic turnaround started at the end of my term.\n",
      "Augmented Text:\n",
      "The economic flip flop started at the oddment of my term.\n",
      "####################\n",
      "Original:\n",
      "The Chicago Bears have had more starting quarterbacks in the last 10 years than the total number of tenured (UW) faculty fired during the last two decades.\n",
      "Augmented Text:\n",
      "The Chicago Bears give birth have more starting signal caller in the last place ten years than the total phone number of tenured (UW) faculty give the sack during the last two x.\n",
      "####################\n",
      "Original:\n",
      "Jim Dunnam has not lived in the district he represents for years now.\n",
      "Augmented Text:\n",
      "Jim Dunnam has not lived in the territorial dominion he typify for year now.\n",
      "####################\n",
      "Original:\n",
      "I'm the only person on this stage who has worked actively just last year passing, along with Russ Feingold, some of the toughest ethics reform since Watergate.\n",
      "Augmented Text:\n",
      "1 ' m the only person on this stage who take worked actively but final year passing, along with Rus Feingold, some of the toughest ethical code reform since Watergate.\n",
      "####################\n",
      "Original:\n",
      "However, it took $19.5 million in Oregon Lottery funds for the Port of Newport to eventually land the new NOAA Marine Operations Center-Pacific.\n",
      "Augmented Text:\n",
      "However, it call for $ 19. 5 zillion in Oregon Lottery funds for the Embrasure of Newport to finally put down the newfangled NOAA Marine Operation Plaza - Pacific.\n",
      "####################\n",
      "Original:\n",
      "Says GOP primary opponents Glenn Grothman and Joe Leibham cast a compromise vote that cost $788 million in higher electricity costs.\n",
      "Augmented Text:\n",
      "Says GOP primary opponents Glenn Grothman and Joe Leibham couch a compromise vote that cost $ 788 million in higher electricity price.\n",
      "####################\n"
     ]
    }
   ],
   "source": [
    "path = home_dir + \"/Data/liar_dataset\"\n",
    "data = pd.read_csv(path+\"/train.tsv\",sep = \"\\t\", header = None)\n",
    "data.columns = [\"ID\", \"label\", \"statement\", \"subject\", \"speaker\", \"jobtitle\", \"state\", \"party\", \"barely_true\", \"false_count\", \"half_true\", \"mostly_true\", \"POF\", \"context\"]\n",
    "\n",
    "statements = data[\"statement\"].values.tolist()[:10]\n",
    "\n",
    "##feed into nplaug\n",
    "\n",
    "for statement in statements:\n",
    "    augmented_text = aug.augment(statement)\n",
    "    print(\"Original:\")\n",
    "    print(statement)\n",
    "    print(\"Augmented Text:\")\n",
    "    print(augmented_text)\n",
    "    print(\"#\"*20)"
   ]
  }
 ],
 "metadata": {
  "kernelspec": {
   "display_name": "Python 3",
   "language": "python",
   "name": "python3"
  },
  "language_info": {
   "codemirror_mode": {
    "name": "ipython",
    "version": 3
   },
   "file_extension": ".py",
   "mimetype": "text/x-python",
   "name": "python",
   "nbconvert_exporter": "python",
   "pygments_lexer": "ipython3",
   "version": "3.8.5"
  }
 },
 "nbformat": 4,
 "nbformat_minor": 4
}

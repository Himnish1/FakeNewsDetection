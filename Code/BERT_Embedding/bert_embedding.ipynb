{
 "cells": [
  {
   "cell_type": "markdown",
   "id": "typical-treasure",
   "metadata": {},
   "source": [
    "### Bert Embedding Generator (Shubham Agarwal)"
   ]
  },
  {
   "cell_type": "code",
   "execution_count": null,
   "id": "premium-closer",
   "metadata": {},
   "outputs": [],
   "source": [
    "from get_bert_embeddings import *"
   ]
  },
  {
   "cell_type": "code",
   "execution_count": null,
   "id": "comfortable-macedonia",
   "metadata": {},
   "outputs": [],
   "source": [
    "# Read in data\n",
    "df = pd.read_csv(\"train.csv\")\n",
    "\n",
    "# Add CLS and SEP tokens for BERT\n",
    "df['statement'] = df['statement'].apply(lambda x: \"[CLS] \"+x.replace('.',' [SEP]').replace('?',' [SEP]').replace('!',' [SEP]'))"
   ]
  },
  {
   "cell_type": "code",
   "execution_count": null,
   "id": "forward-harassment",
   "metadata": {},
   "outputs": [],
   "source": [
    "# Generate BERT embedding\n",
    "i=11\n",
    "embedder = BertEmbedder(max_seq_len=25)\n",
    "df.loc[1000*(i-1):1000*i,'emb'] = df['statement'][1000*(i-1):1000*i].apply(lambda x: embedder.get_bert_embeddings([x]))\n",
    "df.loc[1000*(i-1):1000*i,'emb'] = df['emb'][1000*(i-1):1000*i].apply(lambda x: x.detach())\n",
    "x = torch.vstack([i for i in df.loc[1000*(i-1):(1000*i)-1,'emb']])\n",
    "torch.save(x, f'train_bert_{i}.pt')"
   ]
  },
  {
   "cell_type": "code",
   "execution_count": null,
   "id": "adolescent-definition",
   "metadata": {},
   "outputs": [],
   "source": [
    "# Stack all the tensors together\n",
    "pt = torch.vstack([torch.load(f\"train_bert_{i}.pt\") for i in range(1,12)])\n",
    "torch.save(pt, f'train_bert.pt')"
   ]
  }
 ],
 "metadata": {
  "environment": {
   "name": "pytorch-gpu.1-7.m65",
   "type": "gcloud",
   "uri": "gcr.io/deeplearning-platform-release/pytorch-gpu.1-7:m65"
  },
  "kernelspec": {
   "display_name": "Python 3",
   "language": "python",
   "name": "python3"
  },
  "language_info": {
   "codemirror_mode": {
    "name": "ipython",
    "version": 3
   },
   "file_extension": ".py",
   "mimetype": "text/x-python",
   "name": "python",
   "nbconvert_exporter": "python",
   "pygments_lexer": "ipython3",
   "version": "3.7.10"
  }
 },
 "nbformat": 4,
 "nbformat_minor": 5
}

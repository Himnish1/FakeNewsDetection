{
 "cells": [
  {
   "cell_type": "markdown",
   "metadata": {},
   "source": [
    "# Modifying Adjectives\n",
    "using https://github.com/makcedward/nlpaug to modify adjectives in the LIAR dataset\n"
   ]
  },
  {
   "cell_type": "code",
   "execution_count": 8,
   "metadata": {},
   "outputs": [],
   "source": [
    "import nlpaug.augmenter.char as nac\n",
    "import nlpaug.augmenter.word as naw\n",
    "import nlpaug.augmenter.sentence as nas\n",
    "\n",
    "import pandas as pd\n",
    "import numpy as np\n",
    "\n",
    "#path to the local copy of FakeNewsDetection Repo\n",
    "home_dir = \"/Volumes/My_Passport/Documents/FakeNewsDetection\""
   ]
  },
  {
   "cell_type": "markdown",
   "metadata": {},
   "source": [
    "## Augment training data\n",
    "you will need to change home_dir to full path for local copy of the FakeNewsDetection Repository"
   ]
  },
  {
   "cell_type": "code",
   "execution_count": 9,
   "metadata": {},
   "outputs": [],
   "source": [
    "path = home_dir + \"/Data/liar_dataset\"\n",
    "data = pd.read_csv(path+\"/train.tsv\",sep = \"\\t\", header = None)\n",
    "col_names = [\"ID\", \"label\", \"statement\", \"subject\", \"speaker\", \"jobtitle\", \"state\", \"party\", \"barely_true\", \"false_count\", \"half_true\", \"mostly_true\", \"POF\", \"context\"]\n",
    "data.columns = col_names\n",
    "#data = data[:10]\n",
    "\n",
    "\n",
    "##feed into nplaug\n",
    "aug = naw.SynonymAug(aug_src='wordnet')\n",
    "inputdf = pd.DataFrame(columns = col_names)\n",
    "\n",
    "\n",
    "for index, row in data.iterrows():\n",
    "    for i in range(3):\n",
    "        statement = row[\"statement\"]\n",
    "        new_row = row[:]\n",
    "        new_row[\"statement\"] = aug.augment(statement)\n",
    "        inputdf = inputdf.append(new_row)\n",
    "\n",
    "inputdf = inputdf.reset_index(drop = True)\n",
    "\n",
    "inputdf.to_csv(path+\"/aug/train_aug.tsv\", sep = \"\\t\", header = None)\n"
   ]
  },
  {
   "cell_type": "markdown",
   "metadata": {},
   "source": [
    "## Augment validation data"
   ]
  },
  {
   "cell_type": "code",
   "execution_count": 10,
   "metadata": {},
   "outputs": [],
   "source": [
    "path = home_dir + \"/Data/liar_dataset\"\n",
    "data = pd.read_csv(path+\"/valid.tsv\",sep = \"\\t\", header = None)\n",
    "col_names = [\"ID\", \"label\", \"statement\", \"subject\", \"speaker\", \"jobtitle\", \"state\", \"party\", \"barely_true\", \"false_count\", \"half_true\", \"mostly_true\", \"POF\", \"context\"]\n",
    "data.columns = col_names\n",
    "#data = data[:10]\n",
    "\n",
    "\n",
    "##feed into nplaug\n",
    "aug = naw.SynonymAug(aug_src='wordnet')\n",
    "inputdf = pd.DataFrame(columns = col_names)\n",
    "\n",
    "\n",
    "for index, row in data.iterrows():\n",
    "    for i in range(3):\n",
    "        statement = row[\"statement\"]\n",
    "        new_row = row[:]\n",
    "        new_row[\"statement\"] = aug.augment(statement)\n",
    "        inputdf = inputdf.append(new_row)\n",
    "\n",
    "inputdf = inputdf.reset_index(drop = True)\n",
    "\n",
    "inputdf.to_csv(path+\"/aug/valid_aug.tsv\", sep = \"\\t\", header = None)\n"
   ]
  },
  {
   "cell_type": "markdown",
   "metadata": {},
   "source": [
    "## Augment test data"
   ]
  },
  {
   "cell_type": "code",
   "execution_count": 11,
   "metadata": {},
   "outputs": [],
   "source": [
    "path = home_dir + \"/Data/liar_dataset\"\n",
    "data = pd.read_csv(path+\"/test.tsv\",sep = \"\\t\", header = None)\n",
    "col_names = [\"ID\", \"label\", \"statement\", \"subject\", \"speaker\", \"jobtitle\", \"state\", \"party\", \"barely_true\", \"false_count\", \"half_true\", \"mostly_true\", \"POF\", \"context\"]\n",
    "data.columns = col_names\n",
    "#data = data[:10]\n",
    "\n",
    "\n",
    "##feed into nplaug\n",
    "aug = naw.SynonymAug(aug_src='wordnet')\n",
    "inputdf = pd.DataFrame(columns = col_names)\n",
    "\n",
    "\n",
    "for index, row in data.iterrows():\n",
    "    for i in range(3):\n",
    "        statement = row[\"statement\"]\n",
    "        new_row = row[:]\n",
    "        new_row[\"statement\"] = aug.augment(statement)\n",
    "        inputdf = inputdf.append(new_row)\n",
    "\n",
    "inputdf = inputdf.reset_index(drop = True)\n",
    "\n",
    "inputdf.to_csv(path+\"/aug/test_aug.tsv\", sep = \"\\t\", header = None)\n"
   ]
  }
 ],
 "metadata": {
  "kernelspec": {
   "display_name": "Python 3",
   "language": "python",
   "name": "python3"
  },
  "language_info": {
   "codemirror_mode": {
    "name": "ipython",
    "version": 3
   },
   "file_extension": ".py",
   "mimetype": "text/x-python",
   "name": "python",
   "nbconvert_exporter": "python",
   "pygments_lexer": "ipython3",
   "version": "3.8.5"
  }
 },
 "nbformat": 4,
 "nbformat_minor": 4
}

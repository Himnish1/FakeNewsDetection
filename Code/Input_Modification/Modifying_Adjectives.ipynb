{
 "cells": [
  {
   "cell_type": "markdown",
   "metadata": {},
   "source": [
    "# Modifying Adjectives\n",
    "using https://github.com/makcedward/nlpaug to modify adjectives in the LIAR dataset\n"
   ]
  },
  {
   "cell_type": "code",
   "execution_count": null,
   "metadata": {},
   "outputs": [],
   "source": [
    "import nlpaug.augmenter.char as nac\n",
    "import nlpaug.augmenter.word as naw\n",
    "import nlpaug.augmenter.sentence as nas"
   ]
  },
  {
   "cell_type": "code",
   "execution_count": null,
   "metadata": {
    "scrolled": true
   },
   "outputs": [],
   "source": [
    "text = \"the quick brown fox jumps over the lazy dog\"\n",
    "\n",
    "aug = naw.SynonymAug(aug_src='wordnet')\n",
    "augmented_text = aug.augment(text)\n",
    "print(\"Original:\")\n",
    "print(text)\n",
    "print(\"Augmented Text:\")\n",
    "print(augmented_text)"
   ]
  },
  {
   "cell_type": "markdown",
   "metadata": {},
   "source": [
    "## Read in 10 lines of training data\n",
    "you will need to change home_dir to full path for local copy of the FakeNewsDetection Repository"
   ]
  },
  {
   "cell_type": "code",
   "execution_count": null,
   "metadata": {},
   "outputs": [],
   "source": [
    "import pandas as pd\n",
    "import numpy as np\n",
    "\n",
    "#path to the local copy of FakeNewsDetection Repo\n",
    "home_dir = \"/Volumes/My_Passport/Documents/FakeNewsDetection\""
   ]
  },
  {
   "cell_type": "code",
   "execution_count": null,
   "metadata": {},
   "outputs": [],
   "source": [
    "path = home_dir + \"/Data/liar_dataset\"\n",
    "data = pd.read_csv(path+\"/train.tsv\",sep = \"\\t\", header = None)\n",
    "data.columns = [\"ID\", \"label\", \"statement\", \"subject\", \"speaker\", \"jobtitle\", \"state\", \"party\", \"barely_true\", \"false_count\", \"half_true\", \"mostly_true\", \"POF\", \"context\"]\n",
    "\n",
    "statements = data[\"statement\"].values.tolist()[:10]\n",
    "\n",
    "##feed into nplaug\n",
    "\n",
    "for statement in statements:\n",
    "    augmented_text = aug.augment(statement)\n",
    "    print(\"Original:\")\n",
    "    print(statement)\n",
    "    print(\"Augmented Text:\")\n",
    "    print(augmented_text)\n",
    "    print(\"#\"*20)"
   ]
  },
  {
   "cell_type": "markdown",
   "metadata": {},
   "source": [
    "Run Synonym augmenter on same sentence multiple times\n"
   ]
  },
  {
   "cell_type": "code",
   "execution_count": null,
   "metadata": {},
   "outputs": [],
   "source": [
    "text = \"I'm the only person on this stage who has worked actively just last year passing, along with Russ Feingold, some of the toughest ethics reform since Watergate.\"\n",
    "\n",
    "for i in range(4):\n",
    "    aug = naw.SynonymAug(aug_src='wordnet')\n",
    "    augmented_text = aug.augment(text)\n",
    "    print(\"Original:\")\n",
    "    print(text)\n",
    "    print(\"Augmented Text:\")\n",
    "    print(augmented_text)\n",
    "    print(\"#\"*10)\n",
    "\n",
    "    #     text = augmented_text"
   ]
  }
 ],
 "metadata": {
  "kernelspec": {
   "display_name": "Python 3",
   "language": "python",
   "name": "python3"
  },
  "language_info": {
   "codemirror_mode": {
    "name": "ipython",
    "version": 3
   },
   "file_extension": ".py",
   "mimetype": "text/x-python",
   "name": "python",
   "nbconvert_exporter": "python",
   "pygments_lexer": "ipython3",
   "version": "3.8.5"
  }
 },
 "nbformat": 4,
 "nbformat_minor": 4
}

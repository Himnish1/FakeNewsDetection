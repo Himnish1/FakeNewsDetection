{
 "cells": [
  {
   "cell_type": "code",
   "execution_count": 1,
   "id": "numerical-bangladesh",
   "metadata": {},
   "outputs": [],
   "source": [
    "from sklearn.feature_extraction.text import TfidfVectorizer\n",
    "import pandas as pd\n",
    "\n",
    "import torch\n",
    "import torch.nn as nn  # neural network modules\n",
    "import torch.nn.functional as F  # activation functions\n",
    "import torch.optim as optim  # optimizer\n",
    "from torch.autograd import Variable # add gradients to tensors\n",
    "from torch.nn import Parameter # model parameter functionality "
   ]
  },
  {
   "cell_type": "code",
   "execution_count": 2,
   "id": "intimate-assurance",
   "metadata": {},
   "outputs": [],
   "source": [
    "# Target labels\n",
    "label_encodings3 = {\n",
    "    'pants-fire': 0, \n",
    "    'false':      0, \n",
    "    'barely-true':1, \n",
    "    'half-true':  1, \n",
    "    'mostly-true':2,\n",
    "    'true':       2\n",
    "}\n",
    "label_encodings6 = {\n",
    "    'pants-fire': 0, \n",
    "    'false':      1, \n",
    "    'barely-true':2, \n",
    "    'half-true':  3, \n",
    "    'mostly-true':4,\n",
    "    'true':       5\n",
    "}"
   ]
  },
  {
   "cell_type": "code",
   "execution_count": 3,
   "id": "twelve-freight",
   "metadata": {},
   "outputs": [],
   "source": [
    "# Load\n",
    "df = pd.read_csv(\"Data/liar_dataset/train.csv\")\n",
    "\n",
    "# Relabel\n",
    "df['target'] = df['label'].apply(lambda x: label_encodings3[x])"
   ]
  },
  {
   "cell_type": "code",
   "execution_count": 4,
   "id": "concrete-concentrate",
   "metadata": {},
   "outputs": [],
   "source": [
    "# TF-IDF on Unigrams\n",
    "corpus = list(df['statement'])\n",
    "vectorizer = TfidfVectorizer(stop_words = 'english')\n",
    "X1 = vectorizer.fit_transform(corpus).toarray()\n",
    "X1 = torch.Tensor(X1)\n",
    "\n",
    "vectorizer2 = TfidfVectorizer(stop_words = 'english', \n",
    "                              ngram_range=(1,2))\n",
    "X2 = vectorizer2.fit_transform(corpus).toarray()\n",
    "X2 = torch.Tensor(X2)"
   ]
  },
  {
   "cell_type": "code",
   "execution_count": 5,
   "id": "southern-peeing",
   "metadata": {},
   "outputs": [],
   "source": [
    "class DNN(nn.Module):\n",
    "    def __init__(self, corpus_size, num_classes):\n",
    "        super(DNN, self).__init__()\n",
    "        \n",
    "        self.full_1 = nn.Linear(corpus_size, 1024)\n",
    "        self.drop_1 = nn.Dropout(p=0.2)\n",
    "        self.nonl_1 = nn.ReLU()\n",
    "        \n",
    "        self.full_2 = nn.Linear(1024, 256)\n",
    "        self.drop_2 = nn.Dropout(p=0.2)\n",
    "        self.nonl_2 = nn.ReLU()\n",
    "\n",
    "        self.full_3 = nn.Linear(256, 64)\n",
    "        self.drop_3 = nn.Dropout(p=0.2)\n",
    "        self.nonl_3 = nn.ReLU()\n",
    "\n",
    "        self.full_4 = nn.Linear(64, 16)\n",
    "        self.drop_4 = nn.Dropout(p=0.2)\n",
    "        self.nonl_4 = nn.ReLU()\n",
    "        \n",
    "        self.full_5 = nn.Linear(16, num_classes)\n",
    "        self.drop_5 = nn.Dropout(p=0.2)\n",
    "        self.nonl_5 = nn.Softmax()\n",
    "        \n",
    "    def forward(self, x):\n",
    "        result = self.nonl_1(self.drop_1(self.full_1(x)))\n",
    "        result = self.nonl_2(self.drop_2(self.full_2(result)))\n",
    "        result = self.nonl_3(self.drop_3(self.full_3(result)))\n",
    "        result = self.nonl_4(self.drop_4(self.full_4(result)))\n",
    "        result = self.nonl_5(self.drop_5(self.full_5(result)))\n",
    "        return result"
   ]
  },
  {
   "cell_type": "code",
   "execution_count": 6,
   "id": "driving-zoning",
   "metadata": {},
   "outputs": [],
   "source": [
    "def get_accuracy(output, targets):\n",
    "\n",
    "    predicted = [int(y_pred.detach().argmax(-1)) for y_pred in output]\n",
    "    targets = [int(y) for y in targets]\n",
    "    correct = sum(a==b for (a,b) in zip(predicted, targets))\n",
    "    accuracy = 100*correct/len(targets) \n",
    "\n",
    "    return accuracy\n",
    "\n",
    "def train(data_X,\n",
    "          test_X,\n",
    "          data_y,\n",
    "          test_y,\n",
    "          corpus_size,\n",
    "          num_classes = 3,\n",
    "          num_epochs = 10,\n",
    "          batch_size = 100,\n",
    "          learning_rate = 0.01):\n",
    "    \n",
    "    # Instantiate model & optimization \n",
    "    model = DNN(corpus_size, num_classes)\n",
    "    optimizer = optim.Adam(model.parameters(), lr=learning_rate)\n",
    "    \n",
    "    # Prepare test data\n",
    "    test_y = torch.Tensor(test_y.values).to(dtype=torch.long)\n",
    "    \n",
    "    # Iterate over epochs\n",
    "    for ep in range(num_epochs):\n",
    "        \n",
    "        model.train()\n",
    "\n",
    "        # Iterate over batches\n",
    "        for i in range(data_X.shape[0]//batch_size):\n",
    "            # Reset gradients\n",
    "            optimizer.zero_grad()\n",
    "            \n",
    "            # Declare features and target labels\n",
    "            X = data_X[i*batch_size:(i+1)*batch_size]\n",
    "            y = data_y[i*batch_size:(i+1)*batch_size].values\n",
    "            y = torch.Tensor(y).to(dtype=torch.long)\n",
    "\n",
    "            # Get predictions from model\n",
    "            pred = model(X)\n",
    "\n",
    "            # Calculate loss\n",
    "            loss_func = nn.CrossEntropyLoss()\n",
    "            loss = loss_func(pred, y)\n",
    "\n",
    "            # Backpropagate\n",
    "            loss.backward()\n",
    "\n",
    "            # Update parameters\n",
    "            optimizer.step()\n",
    "\n",
    "        # Evaluate model\n",
    "        model.eval()\n",
    "            \n",
    "        # Evaluate on test data\n",
    "        test_pred = model(test_X)\n",
    "        test_accuracy = get_accuracy(test_pred, test_y)\n",
    "        \n",
    "        # Print accuracy\n",
    "        print(f\"Test accuracy: {test_accuracy} at epoch: {ep}\")\n",
    "\n",
    "    return test_pred"
   ]
  },
  {
   "cell_type": "code",
   "execution_count": 10,
   "id": "aggressive-valuation",
   "metadata": {},
   "outputs": [],
   "source": [
    "# Separate train and test\n",
    "data_X = X2[:10000]\n",
    "test_X = X2[10000:]\n",
    "data_y = df['target'][:10000]\n",
    "test_y = df['target'][10000:]"
   ]
  },
  {
   "cell_type": "code",
   "execution_count": 11,
   "id": "altered-reconstruction",
   "metadata": {
    "scrolled": true
   },
   "outputs": [
    {
     "name": "stderr",
     "output_type": "stream",
     "text": [
      "/opt/conda/lib/python3.7/site-packages/ipykernel_launcher.py:30: UserWarning: Implicit dimension choice for softmax has been deprecated. Change the call to include dim=X as an argument.\n"
     ]
    },
    {
     "name": "stdout",
     "output_type": "stream",
     "text": [
      "Test accuracy: 35.0 at epoch: 0\n",
      "Test accuracy: 35.0 at epoch: 1\n",
      "Test accuracy: 43.333333333333336 at epoch: 2\n",
      "Test accuracy: 45.416666666666664 at epoch: 3\n",
      "Test accuracy: 43.75 at epoch: 4\n",
      "Test accuracy: 40.833333333333336 at epoch: 5\n",
      "Test accuracy: 41.666666666666664 at epoch: 6\n",
      "Test accuracy: 42.5 at epoch: 7\n",
      "Test accuracy: 41.666666666666664 at epoch: 8\n",
      "Test accuracy: 43.75 at epoch: 9\n"
     ]
    }
   ],
   "source": [
    "test_data = train(data_X, test_X, data_y, test_y, \n",
    "                  corpus_size=X2.shape[1],\n",
    "                  num_classes=3,\n",
    "                  num_epochs=10,\n",
    "                  learning_rate=1e-4\n",
    "                  )"
   ]
  },
  {
   "cell_type": "code",
   "execution_count": 19,
   "id": "governing-remains",
   "metadata": {},
   "outputs": [],
   "source": []
  },
  {
   "cell_type": "code",
   "execution_count": null,
   "id": "northern-classics",
   "metadata": {},
   "outputs": [],
   "source": []
  }
 ],
 "metadata": {
  "environment": {
   "name": "pytorch-gpu.1-7.m65",
   "type": "gcloud",
   "uri": "gcr.io/deeplearning-platform-release/pytorch-gpu.1-7:m65"
  },
  "kernelspec": {
   "display_name": "Python 3",
   "language": "python",
   "name": "python3"
  },
  "language_info": {
   "codemirror_mode": {
    "name": "ipython",
    "version": 3
   },
   "file_extension": ".py",
   "mimetype": "text/x-python",
   "name": "python",
   "nbconvert_exporter": "python",
   "pygments_lexer": "ipython3",
   "version": "3.7.10"
  }
 },
 "nbformat": 4,
 "nbformat_minor": 5
}

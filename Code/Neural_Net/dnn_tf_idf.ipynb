{
 "cells": [
  {
   "cell_type": "code",
   "execution_count": 1,
   "id": "plastic-boost",
   "metadata": {},
   "outputs": [],
   "source": [
    "from sklearn.feature_extraction.text import TfidfVectorizer\n",
    "import pandas as pd\n",
    "\n",
    "import torch\n",
    "import torch.nn as nn  # neural network modules\n",
    "import torch.nn.functional as F  # activation functions\n",
    "import torch.optim as optim  # optimizer\n",
    "from torch.autograd import Variable # add gradients to tensors\n",
    "from torch.nn import Parameter # model parameter functionality "
   ]
  },
  {
   "cell_type": "code",
   "execution_count": 2,
   "id": "optimum-upgrade",
   "metadata": {},
   "outputs": [],
   "source": [
    "# Target labels\n",
    "label_encodings3 = {\n",
    "    'pants-fire': 0, \n",
    "    'false':      0, \n",
    "    'barely-true':1, \n",
    "    'half-true':  1, \n",
    "    'mostly-true':2,\n",
    "    'true':       2\n",
    "}\n",
    "label_encodings6 = {\n",
    "    'pants-fire': 0, \n",
    "    'false':      1, \n",
    "    'barely-true':2, \n",
    "    'half-true':  3, \n",
    "    'mostly-true':4,\n",
    "    'true':       5\n",
    "}"
   ]
  },
  {
   "cell_type": "markdown",
   "id": "sound-reynolds",
   "metadata": {},
   "source": [
    "### DNN-TF-IDF Model"
   ]
  },
  {
   "cell_type": "code",
   "execution_count": 3,
   "id": "western-english",
   "metadata": {},
   "outputs": [],
   "source": [
    "def vectorize_list(lst, length=1):\n",
    "    # Generate corpus\n",
    "    corpus = list(lst[0])\n",
    "    for i in range(1,len(lst)):\n",
    "        corpus.extend(list(lst[i]))\n",
    "    # Vectorize\n",
    "    vectorizer = TfidfVectorizer(stop_words = 'english', \n",
    "                                 ngram_range=(1,length))\n",
    "    vectorizer.fit(corpus)\n",
    "    # Collect vectors\n",
    "    results = []\n",
    "    for item in lst:\n",
    "        temp = vectorizer.transform(list(item)).toarray()\n",
    "        temp = torch.Tensor(temp)\n",
    "        results.append(temp)\n",
    "    \n",
    "    return results"
   ]
  },
  {
   "cell_type": "code",
   "execution_count": 4,
   "id": "engaging-hostel",
   "metadata": {},
   "outputs": [],
   "source": [
    "class DNN(nn.Module):\n",
    "    def __init__(self, corpus_size, num_classes):\n",
    "        super(DNN, self).__init__()\n",
    "        \n",
    "        self.full_1 = nn.Linear(corpus_size, 1024)\n",
    "        self.drop_1 = nn.Dropout(p=0.2)\n",
    "        self.nonl_1 = nn.ReLU()\n",
    "        \n",
    "        self.full_2 = nn.Linear(1024, 256)\n",
    "        self.drop_2 = nn.Dropout(p=0.2)\n",
    "        self.nonl_2 = nn.ReLU()\n",
    "\n",
    "        self.full_3 = nn.Linear(256, 64)\n",
    "        self.drop_3 = nn.Dropout(p=0.2)\n",
    "        self.nonl_3 = nn.ReLU()\n",
    "\n",
    "        self.full_4 = nn.Linear(64, 16)\n",
    "        self.drop_4 = nn.Dropout(p=0.2)\n",
    "        self.nonl_4 = nn.ReLU()\n",
    "        \n",
    "        self.full_5 = nn.Linear(16, num_classes)\n",
    "        self.drop_5 = nn.Dropout(p=0.2)\n",
    "        self.nonl_5 = nn.Softmax()\n",
    "        \n",
    "    def forward(self, x):\n",
    "        result = self.nonl_1(self.drop_1(self.full_1(x)))\n",
    "        result = self.nonl_2(self.drop_2(self.full_2(result)))\n",
    "        result = self.nonl_3(self.drop_3(self.full_3(result)))\n",
    "        result = self.nonl_4(self.drop_4(self.full_4(result)))\n",
    "        result = self.nonl_5(self.drop_5(self.full_5(result)))\n",
    "        return result"
   ]
  },
  {
   "cell_type": "code",
   "execution_count": 5,
   "id": "curious-reunion",
   "metadata": {},
   "outputs": [],
   "source": [
    "def get_accuracy(output, targets):\n",
    "\n",
    "    predicted = [int(y_pred.detach().argmax(-1)) for y_pred in output]\n",
    "    targets = [int(y) for y in targets]\n",
    "    correct = sum(a==b for (a,b) in zip(predicted, targets))\n",
    "    accuracy = 100*correct/len(targets) \n",
    "\n",
    "    return accuracy\n",
    "\n",
    "def train(train_X,\n",
    "          test_X,\n",
    "          train_y,\n",
    "          test_y,\n",
    "          corpus_size,\n",
    "          num_classes = 3,\n",
    "          num_epochs = 10,\n",
    "          batch_size = 100,\n",
    "          learning_rate = 0.01):\n",
    "    \n",
    "    # Instantiate model & optimization \n",
    "    model = DNN(corpus_size, num_classes)\n",
    "    optimizer = optim.Adam(model.parameters(), lr=learning_rate)\n",
    "    \n",
    "    # Prepare test data\n",
    "    test_y = torch.Tensor(test_y.values).to(dtype=torch.long)\n",
    "    \n",
    "    # Collect loss\n",
    "    loss_func = nn.CrossEntropyLoss()\n",
    "    loss_train, loss_test = [], []\n",
    "\n",
    "    # Iterate over epochs\n",
    "    for ep in range(num_epochs):\n",
    "        \n",
    "        model.train()\n",
    "        temp_loss = []\n",
    "        \n",
    "        # Iterate over batches\n",
    "        for i in range(train_X.shape[0]//batch_size):\n",
    "            # Reset gradients\n",
    "            optimizer.zero_grad()\n",
    "            \n",
    "            # Declare features and target labels\n",
    "            X = train_X[i*batch_size:(i+1)*batch_size]\n",
    "            y = train_y[i*batch_size:(i+1)*batch_size].values\n",
    "            y = torch.Tensor(y).to(dtype=torch.long)\n",
    "\n",
    "            # Get predictions from model\n",
    "            pred = model(X)\n",
    "\n",
    "            # Calculate loss\n",
    "            loss = loss_func(pred, y)\n",
    "            temp_loss.append(float(loss.detach()))\n",
    "            \n",
    "            # Backpropagate\n",
    "            loss.backward()\n",
    "\n",
    "            # Update parameters\n",
    "            optimizer.step()\n",
    "        \n",
    "        # Record train loss\n",
    "        loss_train.append(sum(temp_loss)/len(temp_loss))\n",
    "        \n",
    "        # Evaluate model\n",
    "        model.eval()\n",
    "            \n",
    "        # Evaluate on test data\n",
    "        test_pred = model(test_X)\n",
    "        test_accuracy = get_accuracy(test_pred, test_y)\n",
    "        loss_test.append(float(loss_func(test_pred, test_y).detach()))\n",
    "        \n",
    "        # Print accuracy\n",
    "        print(f\"Test accuracy: {test_accuracy} at epoch: {ep}\")\n",
    "\n",
    "    return model, loss_train, loss_test"
   ]
  },
  {
   "cell_type": "markdown",
   "id": "global-coast",
   "metadata": {},
   "source": [
    "### Train"
   ]
  },
  {
   "cell_type": "code",
   "execution_count": 6,
   "id": "distinguished-shopping",
   "metadata": {},
   "outputs": [],
   "source": [
    "# Read in data\n",
    "df_train = pd.read_csv(\"Data/liar_dataset/train.csv\")\n",
    "df_test = pd.read_csv(\"Data/liar_dataset/test.csv\")\n",
    "df_valid = pd.read_csv(\"Data/liar_dataset/valid.csv\")\n",
    "\n",
    "# Relabel\n",
    "df_train['target'] = df_train['label'].apply(lambda x: label_encodings6[x])\n",
    "df_test['target'] = df_test['label'].apply(lambda x: label_encodings6[x])\n",
    "df_valid['target'] = df_valid['label'].apply(lambda x: label_encodings6[x])"
   ]
  },
  {
   "cell_type": "code",
   "execution_count": 7,
   "id": "successful-scotland",
   "metadata": {},
   "outputs": [],
   "source": [
    "# TF-IDF \n",
    "vec_unigrams = vectorize_list([df_train['statement'],\n",
    "                               df_test['statement'],\n",
    "                               df_valid['statement']])\n",
    "vec_bigrams = vectorize_list([df_train['statement'],\n",
    "                              df_test['statement'],\n",
    "                              df_valid['statement']],\n",
    "                            length=2)"
   ]
  },
  {
   "cell_type": "code",
   "execution_count": 11,
   "id": "suitable-python",
   "metadata": {
    "scrolled": true
   },
   "outputs": [
    {
     "name": "stderr",
     "output_type": "stream",
     "text": [
      "/opt/conda/lib/python3.7/site-packages/ipykernel_launcher.py:30: UserWarning: Implicit dimension choice for softmax has been deprecated. Change the call to include dim=X as an argument.\n"
     ]
    },
    {
     "name": "stdout",
     "output_type": "stream",
     "text": [
      "Test accuracy: 19.021310181531177 at epoch: 0\n",
      "Test accuracy: 21.86266771902131 at epoch: 1\n",
      "Test accuracy: 21.941594317284924 at epoch: 2\n",
      "Test accuracy: 22.257300710339383 at epoch: 3\n",
      "Test accuracy: 22.099447513812155 at epoch: 4\n",
      "Test accuracy: 22.888713496448304 at epoch: 5\n",
      "Test accuracy: 22.099447513812155 at epoch: 6\n",
      "Test accuracy: 22.573007103393845 at epoch: 7\n",
      "Test accuracy: 21.152328334648775 at epoch: 8\n",
      "Test accuracy: 22.02052091554854 at epoch: 9\n"
     ]
    }
   ],
   "source": [
    "model, loss_train, loss_test = train(train_X=vec_bigrams[0], \n",
    "                                     test_X=vec_bigrams[1], \n",
    "                                     train_y=df_train['target'], \n",
    "                                     test_y=df_test['target'],\n",
    "                                     corpus_size=vec_bigrams[0].shape[1],\n",
    "                                     num_classes=6,\n",
    "                                     num_epochs=10,\n",
    "                                     learning_rate=1e-4,\n",
    "                                     batch_size=10)"
   ]
  },
  {
   "cell_type": "code",
   "execution_count": 12,
   "id": "needed-magnitude",
   "metadata": {},
   "outputs": [
    {
     "name": "stderr",
     "output_type": "stream",
     "text": [
      "/opt/conda/lib/python3.7/site-packages/ipykernel_launcher.py:30: UserWarning: Implicit dimension choice for softmax has been deprecated. Change the call to include dim=X as an argument.\n"
     ]
    },
    {
     "data": {
      "text/plain": [
       "20.24922118380062"
      ]
     },
     "execution_count": 12,
     "metadata": {},
     "output_type": "execute_result"
    }
   ],
   "source": [
    "# Evaluate on validation set\n",
    "pred_valid = model(vec_bigrams[2])\n",
    "get_accuracy(pred_valid, \n",
    "             torch.Tensor(df_valid['target'].values).to(dtype=torch.long))"
   ]
  },
  {
   "cell_type": "code",
   "execution_count": 15,
   "id": "clean-teddy",
   "metadata": {},
   "outputs": [
    {
     "name": "stdout",
     "output_type": "stream",
     "text": [
      "[[  0  24   5  55   1  31]\n",
      " [  0  58   6 149   3  47]\n",
      " [  0  43  11 139   1  43]\n",
      " [  0  49   5 144   4  46]\n",
      " [  0  26   8 164  13  40]\n",
      " [  0  22   0 107   6  34]]\n"
     ]
    },
    {
     "data": {
      "text/plain": [
       "<AxesSubplot:>"
      ]
     },
     "execution_count": 15,
     "metadata": {},
     "output_type": "execute_result"
    },
    {
     "data": {
      "image/png": "[encoded data removed]",
      "text/plain": [
       "<Figure size 432x288 with 2 Axes>"
      ]
     },
     "metadata": {
      "needs_background": "light"
     },
     "output_type": "display_data"
    }
   ],
   "source": [
    "import matplotlib.pyplot as plt \n",
    "import numpy as np\n",
    "from sklearn.metrics import confusion_matrix\n",
    "pred_valid_values = [np.argmax(pred_valid[i].detach().numpy(),0) for i in range(pred_valid.shape[0])]\n",
    "cf_matrix = confusion_matrix(df_valid['target'].values, pred_valid_values)\n",
    "print(cf_matrix)\n",
    "\n",
    "import seaborn as sns\n",
    "sns.heatmap(cf_matrix, annot=True)"
   ]
  },
  {
   "cell_type": "code",
   "execution_count": 16,
   "id": "advance-least",
   "metadata": {},
   "outputs": [],
   "source": [
    "# Save losses\n",
    "import pickle\n",
    "with open('dnn_bigrams_loss_train.data', 'wb') as filehandle:\n",
    "    pickle.dump(loss_train, filehandle)\n",
    "with open('dnn_bigrams_loss_test.data', 'wb') as filehandle:\n",
    "    pickle.dump(loss_test, filehandle)\n",
    "    \n",
    "# Save model\n",
    "torch.save(model.state_dict(), \"dnn_bigrams_model.pt\")"
   ]
  },
  {
   "cell_type": "code",
   "execution_count": null,
   "id": "instrumental-terror",
   "metadata": {},
   "outputs": [],
   "source": []
  }
 ],
 "metadata": {
  "environment": {
   "name": "pytorch-gpu.1-7.m65",
   "type": "gcloud",
   "uri": "gcr.io/deeplearning-platform-release/pytorch-gpu.1-7:m65"
  },
  "kernelspec": {
   "display_name": "Python 3",
   "language": "python",
   "name": "python3"
  },
  "language_info": {
   "codemirror_mode": {
    "name": "ipython",
    "version": 3
   },
   "file_extension": ".py",
   "mimetype": "text/x-python",
   "name": "python",
   "nbconvert_exporter": "python",
   "pygments_lexer": "ipython3",
   "version": "3.7.10"
  }
 },
 "nbformat": 4,
 "nbformat_minor": 5
}

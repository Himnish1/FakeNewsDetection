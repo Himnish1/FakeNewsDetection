{
 "cells": [
  {
   "cell_type": "code",
   "execution_count": 1,
   "id": "prescribed-finland",
   "metadata": {},
   "outputs": [],
   "source": [
    "import torch\n",
    "import torch.nn as nn  # neural network modules\n",
    "import torch.nn.functional as F  # activation functions\n",
    "import torch.optim as optim  # optimizer\n",
    "from torch.autograd import Variable # add gradients to tensors\n",
    "from torch.nn import Parameter # model parameter functionality \n",
    "\n",
    "import pandas as pd\n",
    "import numpy as np\n",
    "import csv\n",
    "import itertools"
   ]
  },
  {
   "cell_type": "code",
   "execution_count": 2,
   "id": "experienced-queens",
   "metadata": {},
   "outputs": [],
   "source": [
    "# Target labels\n",
    "label_encodings3 = {\n",
    "    'pants-fire': 0, \n",
    "    'false':      0, \n",
    "    'barely-true':1, \n",
    "    'half-true':  1, \n",
    "    'mostly-true':2,\n",
    "    'true':       2\n",
    "}\n",
    "label_encodings6 = {\n",
    "    'pants-fire': 0, \n",
    "    'false':      1, \n",
    "    'barely-true':2, \n",
    "    'half-true':  3, \n",
    "    'mostly-true':4,\n",
    "    'true':       5\n",
    "}"
   ]
  },
  {
   "cell_type": "markdown",
   "id": "presidential-rotation",
   "metadata": {},
   "source": [
    "### FakeBERT"
   ]
  },
  {
   "cell_type": "code",
   "execution_count": 3,
   "id": "varied-valuation",
   "metadata": {},
   "outputs": [],
   "source": [
    "def get_accuracy(output, targets):\n",
    "\n",
    "    predicted = [int(y_pred.detach().argmax(-1)) for y_pred in output]\n",
    "    targets = [int(y) for y in targets]\n",
    "    correct = sum(a==b for (a,b) in zip(predicted, targets))\n",
    "    accuracy = 100*correct/len(targets) \n",
    "\n",
    "    return accuracy\n",
    "\n",
    "def train(train_X,\n",
    "          test_X,\n",
    "          train_y,\n",
    "          test_y,\n",
    "          num_classes = 3,\n",
    "          num_epochs = 10,\n",
    "          batch_size = 10,\n",
    "          learning_rate = 1e-4):\n",
    "    \n",
    "    # Instantiate model & optimization \n",
    "    model = FakeBERT(num_classes)\n",
    "    optimizer = optim.Adam(model.parameters(), lr=learning_rate)\n",
    "    \n",
    "    # Prepare test data\n",
    "    test_y = torch.Tensor(test_y.values).to(dtype=torch.long)\n",
    "    \n",
    "    # Collect loss\n",
    "    loss_func = nn.CrossEntropyLoss()\n",
    "    loss_train, loss_test = [], []\n",
    "    \n",
    "    # Iterate over epochs\n",
    "    for ep in range(num_epochs):\n",
    "        \n",
    "        model.train()\n",
    "        temp_loss = []\n",
    "\n",
    "        # Iterate over batches\n",
    "        for i in range(train_X.shape[0]//batch_size):\n",
    "            # Reset gradients\n",
    "            optimizer.zero_grad()\n",
    "            \n",
    "            # Declare features and target labels\n",
    "            X = train_X[i*batch_size:(i+1)*batch_size]\n",
    "            y = train_y[i*batch_size:(i+1)*batch_size].values\n",
    "            y = torch.Tensor(y).to(dtype=torch.long)\n",
    "\n",
    "            # Get predictions from model\n",
    "            pred = model(X)\n",
    "\n",
    "            # Calculate loss\n",
    "            loss = loss_func(pred, y)\n",
    "            temp_loss.append(float(loss.detach()))\n",
    "            \n",
    "            # Backpropagate\n",
    "            loss.backward()\n",
    "\n",
    "            # Update parameters\n",
    "            optimizer.step()\n",
    "        \n",
    "        # Record train loss\n",
    "        loss_train.append(sum(temp_loss)/len(temp_loss))\n",
    "        \n",
    "        # Evaluate model\n",
    "        model.eval()\n",
    "            \n",
    "        # Evaluate on test data\n",
    "        test_pred = model(test_X)\n",
    "        test_accuracy = get_accuracy(test_pred, test_y)\n",
    "        loss_test.append(float(loss_func(test_pred, test_y).detach()))\n",
    "        \n",
    "        # Print accuracy\n",
    "        print(f\"Test accuracy: {test_accuracy} at epoch: {ep}\")\n",
    "\n",
    "    return model, loss_train, loss_test"
   ]
  },
  {
   "cell_type": "code",
   "execution_count": 4,
   "id": "tight-studio",
   "metadata": {},
   "outputs": [],
   "source": [
    "class FakeBERT(nn.Module):\n",
    "    def __init__(self, num_classes):\n",
    "        super(FakeBERT, self).__init__()\n",
    "        \n",
    "        # Layer 1: Conv1D + Maxpool\n",
    "        self.conv_1 = nn.Conv1d(in_channels=25, out_channels=32, kernel_size=3, stride=1)\n",
    "        self.sigm_1 = nn.ReLU()\n",
    "        self.pool_1 = nn.MaxPool1d(kernel_size=5, stride=5)\n",
    "        \n",
    "        # Layer 2: Conv1D + Maxpool\n",
    "        self.conv_2 = nn.Conv1d(in_channels=25, out_channels=32, kernel_size=4, stride=1)\n",
    "        self.sigm_2 = nn.ReLU()\n",
    "        self.pool_2 = nn.MaxPool1d(kernel_size=5, stride=5)\n",
    "        \n",
    "        # Layer 3: Conv1D + Maxpool\n",
    "        self.conv_3 = nn.Conv1d(in_channels=25, out_channels=32, kernel_size=5, stride=1)\n",
    "        self.sigm_3 = nn.ReLU()\n",
    "        self.pool_3 = nn.MaxPool1d(kernel_size=5, stride=5)\n",
    "        \n",
    "        # Layer 4: Conv1D + Maxpool\n",
    "        self.conv_4 = nn.Conv1d(in_channels=32, out_channels=32, kernel_size=5, stride=1)\n",
    "        self.sigm_4 = nn.ReLU()\n",
    "        self.pool_4 = nn.MaxPool1d(kernel_size=5, stride=5)\n",
    "        \n",
    "        # Layer 5: Conv1D + Maxpool\n",
    "        self.conv_5 = nn.Conv1d(in_channels=32, out_channels=32, kernel_size=5, stride=1)\n",
    "        self.sigm_5 = nn.ReLU()\n",
    "        self.pool_5 = nn.MaxPool1d(kernel_size=5, stride=5)\n",
    "        \n",
    "        # Layer 6: Fully Connected Layer \n",
    "        self.full_6 = nn.Linear(544,32)\n",
    "        self.sigm_6 = nn.Sigmoid()\n",
    "        \n",
    "        # Layer 7: Fully Connected Layer \n",
    "        self.full_7 = nn.Linear(32,num_classes)\n",
    "        self.soft_7 = nn.Softmax()\n",
    "        \n",
    "    def forward(self, x):\n",
    "        # Turn into tensor\n",
    "        x = torch.Tensor(x)\n",
    "        \n",
    "        # Generate the 3 1D conv layers\n",
    "        conv_1 = self.pool_1(self.sigm_1(self.conv_1(x)))        \n",
    "        conv_2 = self.pool_2(self.sigm_2(self.conv_2(x)))        \n",
    "        conv_3 = self.pool_3(self.sigm_3(self.conv_3(x)))\n",
    "        \n",
    "        # Concatenate the 3 layers\n",
    "        cat = torch.cat((conv_1,conv_2,conv_3),2)\n",
    "        \n",
    "        # Pass the concatenated output through 2 1D conv layers\n",
    "        conv_4 = self.pool_4(self.sigm_4(self.conv_4(cat)))        \n",
    "        conv_5 = self.pool_5(self.sigm_5(self.conv_5(conv_4)))  \n",
    "\n",
    "        # Flatten the output\n",
    "        flat = conv_5.flatten(start_dim=1)\n",
    "\n",
    "        # Pass through 2 fully connected layers\n",
    "        full_6 = self.sigm_6(self.full_6(flat))\n",
    "        full_7 = self.soft_7(self.full_7(full_6))\n",
    "        \n",
    "        return full_7"
   ]
  },
  {
   "cell_type": "markdown",
   "id": "promising-airport",
   "metadata": {},
   "source": [
    "### Train"
   ]
  },
  {
   "cell_type": "code",
   "execution_count": 5,
   "id": "corporate-mercy",
   "metadata": {},
   "outputs": [],
   "source": [
    "# Read in data\n",
    "df_train = pd.read_csv(\"Data/liar_dataset/train.csv\")\n",
    "df_test = pd.read_csv(\"Data/liar_dataset/test.csv\")\n",
    "df_valid = pd.read_csv(\"Data/liar_dataset/valid.csv\")\n",
    "\n",
    "# Relabel\n",
    "df_train['target'] = df_train['label'].apply(lambda x: label_encodings6[x])\n",
    "df_test['target'] = df_test['label'].apply(lambda x: label_encodings6[x])\n",
    "df_valid['target'] = df_valid['label'].apply(lambda x: label_encodings6[x])\n",
    "\n",
    "# Load BERT Embeddings\n",
    "pt_train = torch.load('train_bert.pt')\n",
    "pt_test = torch.load('test_bert.pt')\n",
    "pt_valid = torch.load('valid_bert.pt')"
   ]
  },
  {
   "cell_type": "code",
   "execution_count": 6,
   "id": "authorized-transmission",
   "metadata": {
    "scrolled": true
   },
   "outputs": [
    {
     "name": "stderr",
     "output_type": "stream",
     "text": [
      "/opt/conda/lib/python3.7/site-packages/ipykernel_launcher.py:59: UserWarning: Implicit dimension choice for softmax has been deprecated. Change the call to include dim=X as an argument.\n",
      "/opt/conda/lib/python3.7/site-packages/torch/autograd/__init__.py:132: UserWarning: CUDA initialization: Found no NVIDIA driver on your system. Please check that you have an NVIDIA GPU and installed a driver from http://www.nvidia.com/Download/index.aspx (Triggered internally at  /opt/conda/conda-bld/pytorch_1607370156314/work/c10/cuda/CUDAFunctions.cpp:100.)\n",
      "  allow_unreachable=True)  # allow_unreachable flag\n"
     ]
    },
    {
     "name": "stdout",
     "output_type": "stream",
     "text": [
      "Test accuracy: 20.915548539857934 at epoch: 0\n",
      "Test accuracy: 20.915548539857934 at epoch: 1\n",
      "Test accuracy: 20.915548539857934 at epoch: 2\n",
      "Test accuracy: 20.915548539857934 at epoch: 3\n",
      "Test accuracy: 20.915548539857934 at epoch: 4\n",
      "Test accuracy: 21.783741120757696 at epoch: 5\n",
      "Test accuracy: 22.099447513812155 at epoch: 6\n",
      "Test accuracy: 22.099447513812155 at epoch: 7\n",
      "Test accuracy: 21.783741120757696 at epoch: 8\n",
      "Test accuracy: 21.783741120757696 at epoch: 9\n",
      "Test accuracy: 21.54696132596685 at epoch: 10\n",
      "Test accuracy: 21.70481452249408 at epoch: 11\n",
      "Test accuracy: 21.783741120757696 at epoch: 12\n",
      "Test accuracy: 22.099447513812155 at epoch: 13\n",
      "Test accuracy: 22.257300710339383 at epoch: 14\n",
      "Test accuracy: 22.573007103393845 at epoch: 15\n",
      "Test accuracy: 22.730860299921073 at epoch: 16\n",
      "Test accuracy: 23.04656669297553 at epoch: 17\n",
      "Test accuracy: 22.65193370165746 at epoch: 18\n",
      "Test accuracy: 22.730860299921073 at epoch: 19\n",
      "Test accuracy: 23.441199684293608 at epoch: 20\n",
      "Test accuracy: 23.756906077348066 at epoch: 21\n",
      "Test accuracy: 23.283346487766376 at epoch: 22\n",
      "Test accuracy: 22.967640094711918 at epoch: 23\n",
      "Test accuracy: 22.888713496448304 at epoch: 24\n",
      "Test accuracy: 23.283346487766376 at epoch: 25\n",
      "Test accuracy: 22.730860299921073 at epoch: 26\n",
      "Test accuracy: 23.441199684293608 at epoch: 27\n",
      "Test accuracy: 23.914759273875298 at epoch: 28\n",
      "Test accuracy: 23.914759273875298 at epoch: 29\n",
      "Test accuracy: 23.677979479084453 at epoch: 30\n",
      "Test accuracy: 23.599052880820835 at epoch: 31\n",
      "Test accuracy: 22.967640094711918 at epoch: 32\n",
      "Test accuracy: 22.888713496448304 at epoch: 33\n",
      "Test accuracy: 22.494080505130228 at epoch: 34\n",
      "Test accuracy: 22.730860299921073 at epoch: 35\n",
      "Test accuracy: 22.65193370165746 at epoch: 36\n",
      "Test accuracy: 22.494080505130228 at epoch: 37\n",
      "Test accuracy: 22.573007103393845 at epoch: 38\n",
      "Test accuracy: 22.967640094711918 at epoch: 39\n",
      "Test accuracy: 23.204419889502763 at epoch: 40\n",
      "Test accuracy: 23.204419889502763 at epoch: 41\n",
      "Test accuracy: 22.809786898184687 at epoch: 42\n",
      "Test accuracy: 22.967640094711918 at epoch: 43\n",
      "Test accuracy: 22.888713496448304 at epoch: 44\n",
      "Test accuracy: 22.967640094711918 at epoch: 45\n",
      "Test accuracy: 23.283346487766376 at epoch: 46\n",
      "Test accuracy: 22.888713496448304 at epoch: 47\n",
      "Test accuracy: 22.888713496448304 at epoch: 48\n",
      "Test accuracy: 22.730860299921073 at epoch: 49\n",
      "Test accuracy: 22.494080505130228 at epoch: 50\n",
      "Test accuracy: 22.494080505130228 at epoch: 51\n",
      "Test accuracy: 22.257300710339383 at epoch: 52\n",
      "Test accuracy: 22.02052091554854 at epoch: 53\n",
      "Test accuracy: 22.888713496448304 at epoch: 54\n",
      "Test accuracy: 23.12549329123915 at epoch: 55\n",
      "Test accuracy: 22.967640094711918 at epoch: 56\n",
      "Test accuracy: 22.730860299921073 at epoch: 57\n",
      "Test accuracy: 22.17837411207577 at epoch: 58\n",
      "Test accuracy: 22.494080505130228 at epoch: 59\n",
      "Test accuracy: 22.415153906866614 at epoch: 60\n",
      "Test accuracy: 22.257300710339383 at epoch: 61\n",
      "Test accuracy: 22.17837411207577 at epoch: 62\n",
      "Test accuracy: 22.257300710339383 at epoch: 63\n",
      "Test accuracy: 21.70481452249408 at epoch: 64\n",
      "Test accuracy: 21.70481452249408 at epoch: 65\n",
      "Test accuracy: 21.231254932912393 at epoch: 66\n",
      "Test accuracy: 20.36306235201263 at epoch: 67\n",
      "Test accuracy: 20.520915548539858 at epoch: 68\n",
      "Test accuracy: 20.915548539857934 at epoch: 69\n",
      "Test accuracy: 21.625887924230465 at epoch: 70\n",
      "Test accuracy: 22.65193370165746 at epoch: 71\n",
      "Test accuracy: 22.967640094711918 at epoch: 72\n",
      "Test accuracy: 22.336227308603 at epoch: 73\n",
      "Test accuracy: 22.099447513812155 at epoch: 74\n",
      "Test accuracy: 22.17837411207577 at epoch: 75\n",
      "Test accuracy: 22.573007103393845 at epoch: 76\n",
      "Test accuracy: 22.65193370165746 at epoch: 77\n",
      "Test accuracy: 21.941594317284924 at epoch: 78\n",
      "Test accuracy: 21.941594317284924 at epoch: 79\n",
      "Test accuracy: 22.336227308603 at epoch: 80\n",
      "Test accuracy: 22.494080505130228 at epoch: 81\n",
      "Test accuracy: 22.809786898184687 at epoch: 82\n",
      "Test accuracy: 22.257300710339383 at epoch: 83\n",
      "Test accuracy: 22.494080505130228 at epoch: 84\n",
      "Test accuracy: 23.204419889502763 at epoch: 85\n",
      "Test accuracy: 22.809786898184687 at epoch: 86\n",
      "Test accuracy: 22.415153906866614 at epoch: 87\n",
      "Test accuracy: 22.494080505130228 at epoch: 88\n",
      "Test accuracy: 22.573007103393845 at epoch: 89\n",
      "Test accuracy: 22.730860299921073 at epoch: 90\n",
      "Test accuracy: 23.12549329123915 at epoch: 91\n",
      "Test accuracy: 22.730860299921073 at epoch: 92\n",
      "Test accuracy: 22.17837411207577 at epoch: 93\n",
      "Test accuracy: 22.415153906866614 at epoch: 94\n",
      "Test accuracy: 22.65193370165746 at epoch: 95\n",
      "Test accuracy: 22.573007103393845 at epoch: 96\n",
      "Test accuracy: 22.336227308603 at epoch: 97\n",
      "Test accuracy: 21.783741120757696 at epoch: 98\n",
      "Test accuracy: 22.02052091554854 at epoch: 99\n"
     ]
    }
   ],
   "source": [
    "model, loss_train, loss_test = train(train_X=pt_train, \n",
    "                           test_X=pt_test,\n",
    "                           train_y=df_train['target'], \n",
    "                           test_y=df_test['target'], \n",
    "                           num_epochs=100,\n",
    "                           num_classes=6,\n",
    "                           batch_size=10,\n",
    "                           learning_rate=1e-4)"
   ]
  },
  {
   "cell_type": "code",
   "execution_count": 7,
   "id": "proud-harmony",
   "metadata": {},
   "outputs": [
    {
     "name": "stderr",
     "output_type": "stream",
     "text": [
      "/opt/conda/lib/python3.7/site-packages/ipykernel_launcher.py:59: UserWarning: Implicit dimension choice for softmax has been deprecated. Change the call to include dim=X as an argument.\n"
     ]
    },
    {
     "data": {
      "text/plain": [
       "22.897196261682243"
      ]
     },
     "execution_count": 7,
     "metadata": {},
     "output_type": "execute_result"
    }
   ],
   "source": [
    "# Evaluate on validation set\n",
    "pred_valid = model(pt_valid)\n",
    "get_accuracy(pred_valid, \n",
    "            torch.Tensor(df_valid['target'].values).to(dtype=torch.long))"
   ]
  },
  {
   "cell_type": "code",
   "execution_count": 16,
   "id": "wrong-bobby",
   "metadata": {},
   "outputs": [
    {
     "name": "stdout",
     "output_type": "stream",
     "text": [
      "[[ 0 45 22 22 12 15]\n",
      " [ 0 71 58 61 38 35]\n",
      " [ 0 60 51 59 37 30]\n",
      " [ 0 49 56 73 52 18]\n",
      " [ 0 51 39 60 63 38]\n",
      " [ 0 27 29 32 45 36]]\n"
     ]
    },
    {
     "data": {
      "text/plain": [
       "<AxesSubplot:>"
      ]
     },
     "execution_count": 16,
     "metadata": {},
     "output_type": "execute_result"
    },
    {
     "data": {
      "image/png": "[encoded data removed]",
      "text/plain": [
       "<Figure size 432x288 with 2 Axes>"
      ]
     },
     "metadata": {
      "needs_background": "light"
     },
     "output_type": "display_data"
    }
   ],
   "source": [
    "import matplotlib.pyplot as plt  \n",
    "from sklearn.metrics import confusion_matrix\n",
    "pred_valid_values = [np.argmax(pred_valid[i].detach().numpy(),0) for i in range(pred_valid.shape[0])]\n",
    "cf_matrix = confusion_matrix(df_valid['target'].values, pred_valid_values)\n",
    "print(cf_matrix)\n",
    "\n",
    "import seaborn as sns\n",
    "sns.heatmap(cf_matrix, annot=True)"
   ]
  },
  {
   "cell_type": "code",
   "execution_count": 8,
   "id": "average-sphere",
   "metadata": {},
   "outputs": [],
   "source": [
    "# Save losses\n",
    "import pickle\n",
    "with open('fakebert_bert_loss_train.data', 'wb') as filehandle:\n",
    "    pickle.dump(loss_train, filehandle)\n",
    "with open('fakebert_bert_loss_test.data', 'wb') as filehandle:\n",
    "    pickle.dump(loss_test, filehandle)\n",
    "    \n",
    "# Save model\n",
    "torch.save(model.state_dict(), \"fakebert_bert_model.pt\")"
   ]
  },
  {
   "cell_type": "code",
   "execution_count": null,
   "id": "anonymous-storm",
   "metadata": {},
   "outputs": [],
   "source": []
  }
 ],
 "metadata": {
  "environment": {
   "name": "pytorch-gpu.1-7.m65",
   "type": "gcloud",
   "uri": "gcr.io/deeplearning-platform-release/pytorch-gpu.1-7:m65"
  },
  "kernelspec": {
   "display_name": "Python 3",
   "language": "python",
   "name": "python3"
  },
  "language_info": {
   "codemirror_mode": {
    "name": "ipython",
    "version": 3
   },
   "file_extension": ".py",
   "mimetype": "text/x-python",
   "name": "python",
   "nbconvert_exporter": "python",
   "pygments_lexer": "ipython3",
   "version": "3.7.10"
  }
 },
 "nbformat": 4,
 "nbformat_minor": 5
}

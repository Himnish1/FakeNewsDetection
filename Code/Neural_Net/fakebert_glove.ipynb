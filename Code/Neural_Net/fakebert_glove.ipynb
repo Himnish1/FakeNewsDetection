{
 "cells": [
  {
   "cell_type": "code",
   "execution_count": 1,
   "id": "worldwide-ocean",
   "metadata": {},
   "outputs": [],
   "source": [
    "import torch\n",
    "import torch.nn as nn  # neural network modules\n",
    "import torch.nn.functional as F  # activation functions\n",
    "import torch.optim as optim  # optimizer\n",
    "from torch.autograd import Variable # add gradients to tensors\n",
    "from torch.nn import Parameter # model parameter functionality \n",
    "\n",
    "import pandas as pd\n",
    "import numpy as np\n",
    "import csv\n",
    "import itertools\n",
    "\n",
    "from bert_embedding import BertEmbedding"
   ]
  },
  {
   "cell_type": "code",
   "execution_count": 2,
   "id": "polyphonic-treaty",
   "metadata": {},
   "outputs": [],
   "source": [
    "# Target labels\n",
    "label_encodings3 = {\n",
    "    'pants-fire': 0, \n",
    "    'false':      0, \n",
    "    'barely-true':1, \n",
    "    'half-true':  1, \n",
    "    'mostly-true':2,\n",
    "    'true':       2\n",
    "}\n",
    "label_encodings6 = {\n",
    "    'pants-fire': 0, \n",
    "    'false':      1, \n",
    "    'barely-true':2, \n",
    "    'half-true':  3, \n",
    "    'mostly-true':4,\n",
    "    'true':       5\n",
    "}"
   ]
  },
  {
   "cell_type": "markdown",
   "id": "contained-tsunami",
   "metadata": {},
   "source": [
    "### Glove Model"
   ]
  },
  {
   "cell_type": "code",
   "execution_count": 3,
   "id": "nominated-martial",
   "metadata": {},
   "outputs": [],
   "source": [
    "# Read Glove file\n",
    "words = pd.read_table(\"../glove.6B.100d.txt\", sep=\" \", index_col=0, header=None, quoting=csv.QUOTE_NONE)\n",
    "\n",
    "# Generate Glove dictionary\n",
    "glove = {word:words.iloc[idx].values for (word,idx) in zip(words.index,range(words.shape[0]))}"
   ]
  },
  {
   "cell_type": "code",
   "execution_count": 4,
   "id": "religious-virtue",
   "metadata": {},
   "outputs": [],
   "source": [
    "def clean(sentence):\n",
    "    return sentence.replace('?',' ?').replace('.',' .').lower().split()\n",
    "\n",
    "def make_weights_matrix(target_vocab, glove_dict):\n",
    "    \"\"\"\n",
    "    Generate the weights_matrix, which is the matrix of word embeddings that we\n",
    "    pass into Pytorch. It contains len(target_vocab) rows for each of the words,\n",
    "    each represented by a length-100 vector – taken from the Glove embedding\n",
    "    \"\"\"\n",
    "    weights_matrix = np.zeros((len(target_vocab)+1,100))\n",
    "\n",
    "    # Add in vocab\n",
    "    error_count = 0\n",
    "    word_to_idx = {}\n",
    "    for i, word in enumerate(target_vocab):\n",
    "        word_to_idx[word] = i\n",
    "        try: \n",
    "            weights_matrix[i] = glove_dict[word]\n",
    "        except KeyError:\n",
    "            weights_matrix[i] = np.random.normal(scale=0.6, size=(100,))\n",
    "            error_count += 1\n",
    "\n",
    "    # Add in \"empty\" token\n",
    "    word_to_idx[\"\"] = len(target_vocab)\n",
    "\n",
    "    print(f\"We found {error_count} out of {len(target_vocab)} words not in the Glove model\")\n",
    "    \n",
    "    return weights_matrix, word_to_idx"
   ]
  },
  {
   "cell_type": "code",
   "execution_count": 5,
   "id": "available-consultation",
   "metadata": {},
   "outputs": [],
   "source": [
    "def create_emb_layer(weights_matrix, \n",
    "                     non_trainable=False):\n",
    "    weights_matrix = torch.Tensor(weights_matrix)\n",
    "    num_embeddings, embedding_dim = weights_matrix.shape\n",
    "    emb_layer = nn.Embedding(num_embeddings, embedding_dim)\n",
    "    emb_layer.load_state_dict({'weight': weights_matrix})\n",
    "    if non_trainable:\n",
    "        emb_layer.weight.requires_grad = False\n",
    "\n",
    "    return emb_layer, num_embeddings, embedding_dim"
   ]
  },
  {
   "cell_type": "markdown",
   "id": "coral-migration",
   "metadata": {},
   "source": [
    "### FakeBERT"
   ]
  },
  {
   "cell_type": "code",
   "execution_count": 6,
   "id": "sensitive-tongue",
   "metadata": {},
   "outputs": [],
   "source": [
    "class FakeBERT(nn.Module):\n",
    "    def __init__(self, weights_matrix, num_classes):\n",
    "        super(FakeBERT, self).__init__()\n",
    "        \n",
    "        # Layer 0: Embedding Layer\n",
    "        self.embedding, num_embeddings, embedding_dim = create_emb_layer(weights_matrix, True)\n",
    "\n",
    "        # Layer 1: Conv1D + Maxpool\n",
    "        self.conv_1 = nn.Conv1d(in_channels=100, out_channels=128, kernel_size=3, stride=1)\n",
    "        self.sigm_1 = nn.ReLU()\n",
    "        self.pool_1 = nn.MaxPool1d(kernel_size=5, stride=5)\n",
    "        \n",
    "        # Layer 2: Conv1D + Maxpool\n",
    "        self.conv_2 = nn.Conv1d(in_channels=100, out_channels=128, kernel_size=4, stride=1)\n",
    "        self.sigm_2 = nn.ReLU()\n",
    "        self.pool_2 = nn.MaxPool1d(kernel_size=5, stride=5)\n",
    "        \n",
    "        # Layer 3: Conv1D + Maxpool\n",
    "        self.conv_3 = nn.Conv1d(in_channels=100, out_channels=128, kernel_size=5, stride=1)\n",
    "        self.sigm_3 = nn.ReLU()\n",
    "        self.pool_3 = nn.MaxPool1d(kernel_size=5, stride=5)\n",
    "        \n",
    "        # Layer 4: Conv1D + Maxpool\n",
    "        self.conv_4 = nn.Conv1d(in_channels=128, out_channels=128, kernel_size=5, stride=1)\n",
    "        self.sigm_4 = nn.ReLU()\n",
    "        self.pool_4 = nn.MaxPool1d(kernel_size=5, stride=5)\n",
    "        \n",
    "        # Layer 5: Conv1D + Maxpool\n",
    "        self.conv_5 = nn.Conv1d(in_channels=128, out_channels=128, kernel_size=5, stride=1)\n",
    "        self.sigm_5 = nn.ReLU()\n",
    "        self.pool_5 = nn.MaxPool1d(kernel_size=5, stride=5)\n",
    "        \n",
    "        # Layer 6: Fully Connected Layer \n",
    "        self.full_6 = nn.Linear(128,32)\n",
    "        self.sigm_6 = nn.Sigmoid()\n",
    "        \n",
    "        # Layer 7: Fully Connected Layer \n",
    "        self.full_7 = nn.Linear(32,num_classes)\n",
    "        self.soft_7 = nn.Softmax()\n",
    "        \n",
    "    def forward(self, x):\n",
    "        # Generate the embeddings with Glove\n",
    "        emb = self.embedding(x)\n",
    "\n",
    "        # Generate the 3 1D conv layers\n",
    "        conv_1 = self.pool_1(self.sigm_1(self.conv_1(emb)))        \n",
    "        conv_2 = self.pool_2(self.sigm_2(self.conv_2(emb)))        \n",
    "        conv_3 = self.pool_3(self.sigm_3(self.conv_3(emb)))\n",
    "        \n",
    "        # Concatenate the 3 layers\n",
    "        cat = torch.cat((conv_1,conv_2,conv_3),2)\n",
    "        \n",
    "        # Pass the concatenated output through 2 1D conv layers\n",
    "        conv_4 = self.pool_4(self.sigm_4(self.conv_4(cat)))        \n",
    "        conv_5 = self.pool_5(self.sigm_5(self.conv_5(conv_4)))  \n",
    "\n",
    "        # Flatten the output\n",
    "        flat = conv_5.flatten(start_dim=1)\n",
    "\n",
    "        # Pass through 2 fully connected layers\n",
    "        full_6 = self.sigm_6(self.full_6(flat))\n",
    "        full_7 = self.soft_7(self.full_7(full_6))\n",
    "        \n",
    "        return full_7"
   ]
  },
  {
   "cell_type": "code",
   "execution_count": 7,
   "id": "seasonal-pottery",
   "metadata": {},
   "outputs": [],
   "source": [
    "def get_accuracy(output, targets):\n",
    "\n",
    "    predicted = [int(y_pred.detach().argmax(-1)) for y_pred in output]\n",
    "    targets = [int(y) for y in targets]\n",
    "    correct = sum(a==b for (a,b) in zip(predicted, targets))\n",
    "    accuracy = 100*correct/len(targets) \n",
    "\n",
    "    return accuracy\n",
    "\n",
    "def train(train_X,\n",
    "          test_X,\n",
    "          train_y,\n",
    "          test_y,\n",
    "          weights_matrix,\n",
    "          num_classes = 3,\n",
    "          num_epochs = 10,\n",
    "          batch_size = 10,\n",
    "          learning_rate = 1e-4):\n",
    "    \n",
    "    # Instantiate model & optimization \n",
    "    model = FakeBERT(weights_matrix, num_classes)\n",
    "    optimizer = optim.Adam(model.parameters(), lr=learning_rate)\n",
    "\n",
    "    # Prepare test data\n",
    "    test_X = torch.Tensor([i for i in test_X]).to(dtype=torch.long)\n",
    "    test_y = torch.Tensor(test_y.values).to(dtype=torch.long)\n",
    "    \n",
    "    # Collect loss\n",
    "    loss_func = nn.CrossEntropyLoss()\n",
    "    loss_train, loss_test = [], []\n",
    "    \n",
    "    # Iterate over epochs\n",
    "    for ep in range(num_epochs):\n",
    "        \n",
    "        model.train()\n",
    "        temp_loss = []\n",
    "\n",
    "        # Iterate over batches\n",
    "        for i in range(train_X.shape[0]//batch_size):\n",
    "            # Reset gradients\n",
    "            optimizer.zero_grad()\n",
    "            \n",
    "            # Declare features and target labels\n",
    "            X = torch.Tensor([i for i in train_X[i*batch_size:(i+1)*batch_size]]).to(dtype=torch.long)\n",
    "            y = train_y[i*batch_size:(i+1)*batch_size].values\n",
    "            y = torch.Tensor(y).to(dtype=torch.long)\n",
    "\n",
    "            # Get predictions from model\n",
    "            pred = model(X)\n",
    "\n",
    "            # Calculate loss\n",
    "            loss = loss_func(pred, y)\n",
    "            temp_loss.append(float(loss.detach()))\n",
    "\n",
    "            # Backpropagate\n",
    "            loss.backward()\n",
    "\n",
    "            # Update parameters\n",
    "            optimizer.step()\n",
    "        \n",
    "        # Record train loss\n",
    "        loss_train.append(sum(temp_loss)/len(temp_loss))\n",
    "        \n",
    "        # Evaluate model\n",
    "        model.eval()\n",
    "            \n",
    "        # Evaluate on test data\n",
    "        test_pred = model(test_X)\n",
    "        test_accuracy = get_accuracy(test_pred, test_y)\n",
    "        loss_test.append(float(loss_func(test_pred, test_y).detach()))\n",
    "        \n",
    "        # Print accuracy\n",
    "        print(f\"Test accuracy: {test_accuracy} at epoch: {ep}\")\n",
    "\n",
    "    return model, loss_train, loss_test"
   ]
  },
  {
   "cell_type": "markdown",
   "id": "arbitrary-market",
   "metadata": {},
   "source": [
    "### Train"
   ]
  },
  {
   "cell_type": "code",
   "execution_count": 8,
   "id": "english-receptor",
   "metadata": {},
   "outputs": [],
   "source": [
    "# Read in data\n",
    "df_train = pd.read_csv(\"Data/liar_dataset/train.csv\")\n",
    "df_test = pd.read_csv(\"Data/liar_dataset/test.csv\")\n",
    "df_valid = pd.read_csv(\"Data/liar_dataset/valid.csv\")\n",
    "\n",
    "# Relabel\n",
    "df_train['target'] = df_train['label'].apply(lambda x: label_encodings6[x])\n",
    "df_test['target'] = df_test['label'].apply(lambda x: label_encodings6[x])\n",
    "df_valid['target'] = df_valid['label'].apply(lambda x: label_encodings6[x])"
   ]
  },
  {
   "cell_type": "code",
   "execution_count": 9,
   "id": "taken-conviction",
   "metadata": {},
   "outputs": [],
   "source": [
    "# Cleaning\n",
    "\n",
    "# Split the text into words\n",
    "df_train['words'] = df_train['statement'].apply(clean)\n",
    "df_test['words'] = df_test['statement'].apply(clean)\n",
    "df_valid['words'] = df_valid['statement'].apply(clean)\n",
    "\n",
    "# Cap sentences at 100 words, then pad sentences to 100 words using \"\" token\n",
    "df_train['words'] = df_train['words'].apply(lambda x: x[:100]+([\"\"]*(100-len(x[:100]))))\n",
    "df_test['words'] = df_test['words'].apply(lambda x: x[:100]+([\"\"]*(100-len(x[:100]))))\n",
    "df_valid['words'] = df_valid['words'].apply(lambda x: x[:100]+([\"\"]*(100-len(x[:100]))))"
   ]
  },
  {
   "cell_type": "code",
   "execution_count": 10,
   "id": "missing-console",
   "metadata": {},
   "outputs": [
    {
     "name": "stdout",
     "output_type": "stream",
     "text": [
      "We found 6241 out of 19032 words not in the Glove model\n"
     ]
    }
   ],
   "source": [
    "# Generate the list of all vocab words in our data\n",
    "target_vocab = list(set(itertools.chain.from_iterable(df_train['words'])))\n",
    "target_vocab.extend(list(set(itertools.chain.from_iterable(df_test['words']))))\n",
    "target_vocab.extend(list(set(itertools.chain.from_iterable(df_valid['words']))))\n",
    "target_vocab = list(set(target_vocab))\n",
    "\n",
    "# Generate matrix of weights per word, and word to index dictionary\n",
    "weights_matrix, word_to_idx = make_weights_matrix(target_vocab, glove)\n",
    "\n",
    "# Encode text using the indices\n",
    "df_train['text_idx'] = df_train['words'].apply(lambda lst: np.array([word_to_idx[w] for w in lst]))\n",
    "df_test['text_idx'] = df_test['words'].apply(lambda lst: np.array([word_to_idx[w] for w in lst]))\n",
    "df_valid['text_idx'] = df_valid['words'].apply(lambda lst: np.array([word_to_idx[w] for w in lst]))"
   ]
  },
  {
   "cell_type": "code",
   "execution_count": 11,
   "id": "happy-identification",
   "metadata": {
    "scrolled": true
   },
   "outputs": [
    {
     "name": "stderr",
     "output_type": "stream",
     "text": [
      "/opt/conda/lib/python3.7/site-packages/ipykernel_launcher.py:62: UserWarning: Implicit dimension choice for softmax has been deprecated. Change the call to include dim=X as an argument.\n",
      "/opt/conda/lib/python3.7/site-packages/torch/autograd/__init__.py:132: UserWarning: CUDA initialization: Found no NVIDIA driver on your system. Please check that you have an NVIDIA GPU and installed a driver from http://www.nvidia.com/Download/index.aspx (Triggered internally at  /opt/conda/conda-bld/pytorch_1607370156314/work/c10/cuda/CUDAFunctions.cpp:100.)\n",
      "  allow_unreachable=True)  # allow_unreachable flag\n"
     ]
    },
    {
     "name": "stdout",
     "output_type": "stream",
     "text": [
      "Test accuracy: 21.07340173638516 at epoch: 0\n",
      "Test accuracy: 21.07340173638516 at epoch: 1\n",
      "Test accuracy: 19.652722967640095 at epoch: 2\n",
      "Test accuracy: 20.915548539857934 at epoch: 3\n",
      "Test accuracy: 20.915548539857934 at epoch: 4\n",
      "Test accuracy: 20.757695343330703 at epoch: 5\n",
      "Test accuracy: 20.915548539857934 at epoch: 6\n",
      "Test accuracy: 20.520915548539858 at epoch: 7\n",
      "Test accuracy: 20.836621941594316 at epoch: 8\n",
      "Test accuracy: 21.07340173638516 at epoch: 9\n",
      "Test accuracy: 21.70481452249408 at epoch: 10\n",
      "Test accuracy: 21.231254932912393 at epoch: 11\n",
      "Test accuracy: 21.54696132596685 at epoch: 12\n",
      "Test accuracy: 22.336227308603 at epoch: 13\n",
      "Test accuracy: 22.17837411207577 at epoch: 14\n",
      "Test accuracy: 21.941594317284924 at epoch: 15\n",
      "Test accuracy: 22.336227308603 at epoch: 16\n",
      "Test accuracy: 22.17837411207577 at epoch: 17\n",
      "Test accuracy: 22.257300710339383 at epoch: 18\n",
      "Test accuracy: 22.02052091554854 at epoch: 19\n",
      "Test accuracy: 22.17837411207577 at epoch: 20\n",
      "Test accuracy: 21.625887924230465 at epoch: 21\n",
      "Test accuracy: 21.70481452249408 at epoch: 22\n",
      "Test accuracy: 21.783741120757696 at epoch: 23\n",
      "Test accuracy: 21.625887924230465 at epoch: 24\n",
      "Test accuracy: 21.625887924230465 at epoch: 25\n",
      "Test accuracy: 22.099447513812155 at epoch: 26\n",
      "Test accuracy: 22.17837411207577 at epoch: 27\n",
      "Test accuracy: 22.494080505130228 at epoch: 28\n",
      "Test accuracy: 21.310181531176006 at epoch: 29\n",
      "Test accuracy: 21.941594317284924 at epoch: 30\n",
      "Test accuracy: 21.54696132596685 at epoch: 31\n",
      "Test accuracy: 21.468034727703238 at epoch: 32\n",
      "Test accuracy: 20.59984214680347 at epoch: 33\n",
      "Test accuracy: 20.757695343330703 at epoch: 34\n",
      "Test accuracy: 21.310181531176006 at epoch: 35\n",
      "Test accuracy: 21.310181531176006 at epoch: 36\n",
      "Test accuracy: 21.152328334648775 at epoch: 37\n",
      "Test accuracy: 21.86266771902131 at epoch: 38\n",
      "Test accuracy: 21.38910812943962 at epoch: 39\n",
      "Test accuracy: 20.67876874506709 at epoch: 40\n",
      "Test accuracy: 21.38910812943962 at epoch: 41\n",
      "Test accuracy: 20.520915548539858 at epoch: 42\n",
      "Test accuracy: 20.441988950276244 at epoch: 43\n",
      "Test accuracy: 21.38910812943962 at epoch: 44\n",
      "Test accuracy: 20.36306235201263 at epoch: 45\n",
      "Test accuracy: 20.757695343330703 at epoch: 46\n",
      "Test accuracy: 21.152328334648775 at epoch: 47\n",
      "Test accuracy: 21.625887924230465 at epoch: 48\n",
      "Test accuracy: 22.336227308603 at epoch: 49\n",
      "Test accuracy: 21.54696132596685 at epoch: 50\n",
      "Test accuracy: 20.126282557221785 at epoch: 51\n",
      "Test accuracy: 20.36306235201263 at epoch: 52\n",
      "Test accuracy: 20.67876874506709 at epoch: 53\n",
      "Test accuracy: 20.520915548539858 at epoch: 54\n",
      "Test accuracy: 20.284135753749013 at epoch: 55\n",
      "Test accuracy: 20.67876874506709 at epoch: 56\n",
      "Test accuracy: 21.07340173638516 at epoch: 57\n",
      "Test accuracy: 21.231254932912393 at epoch: 58\n",
      "Test accuracy: 21.86266771902131 at epoch: 59\n",
      "Test accuracy: 21.70481452249408 at epoch: 60\n",
      "Test accuracy: 21.38910812943962 at epoch: 61\n",
      "Test accuracy: 21.468034727703238 at epoch: 62\n",
      "Test accuracy: 21.54696132596685 at epoch: 63\n",
      "Test accuracy: 21.468034727703238 at epoch: 64\n",
      "Test accuracy: 20.994475138121548 at epoch: 65\n",
      "Test accuracy: 21.70481452249408 at epoch: 66\n",
      "Test accuracy: 21.468034727703238 at epoch: 67\n",
      "Test accuracy: 22.099447513812155 at epoch: 68\n",
      "Test accuracy: 21.310181531176006 at epoch: 69\n",
      "Test accuracy: 20.994475138121548 at epoch: 70\n",
      "Test accuracy: 21.231254932912393 at epoch: 71\n",
      "Test accuracy: 22.099447513812155 at epoch: 72\n",
      "Test accuracy: 21.54696132596685 at epoch: 73\n",
      "Test accuracy: 21.38910812943962 at epoch: 74\n",
      "Test accuracy: 20.836621941594316 at epoch: 75\n",
      "Test accuracy: 21.468034727703238 at epoch: 76\n",
      "Test accuracy: 22.02052091554854 at epoch: 77\n",
      "Test accuracy: 21.38910812943962 at epoch: 78\n",
      "Test accuracy: 20.520915548539858 at epoch: 79\n",
      "Test accuracy: 21.468034727703238 at epoch: 80\n",
      "Test accuracy: 21.625887924230465 at epoch: 81\n",
      "Test accuracy: 20.67876874506709 at epoch: 82\n",
      "Test accuracy: 20.915548539857934 at epoch: 83\n",
      "Test accuracy: 20.36306235201263 at epoch: 84\n",
      "Test accuracy: 21.38910812943962 at epoch: 85\n",
      "Test accuracy: 20.67876874506709 at epoch: 86\n",
      "Test accuracy: 20.915548539857934 at epoch: 87\n",
      "Test accuracy: 21.38910812943962 at epoch: 88\n",
      "Test accuracy: 20.836621941594316 at epoch: 89\n",
      "Test accuracy: 20.59984214680347 at epoch: 90\n",
      "Test accuracy: 21.07340173638516 at epoch: 91\n",
      "Test accuracy: 20.59984214680347 at epoch: 92\n",
      "Test accuracy: 20.047355958958168 at epoch: 93\n",
      "Test accuracy: 20.36306235201263 at epoch: 94\n",
      "Test accuracy: 20.59984214680347 at epoch: 95\n",
      "Test accuracy: 20.2052091554854 at epoch: 96\n",
      "Test accuracy: 20.36306235201263 at epoch: 97\n",
      "Test accuracy: 21.152328334648775 at epoch: 98\n",
      "Test accuracy: 21.231254932912393 at epoch: 99\n"
     ]
    }
   ],
   "source": [
    "# Train the model\n",
    "model, loss_train, loss_test = train(train_X=df_train['text_idx'], \n",
    "                           test_X=df_test['text_idx'],\n",
    "                           train_y=df_train['target'],\n",
    "                           test_y=df_test['target'],\n",
    "                           weights_matrix=weights_matrix, \n",
    "                           num_epochs=100,\n",
    "                           num_classes=6,\n",
    "                           batch_size=10,\n",
    "                           learning_rate=1e-4)"
   ]
  },
  {
   "cell_type": "code",
   "execution_count": 12,
   "id": "acceptable-majority",
   "metadata": {},
   "outputs": [
    {
     "name": "stderr",
     "output_type": "stream",
     "text": [
      "/opt/conda/lib/python3.7/site-packages/ipykernel_launcher.py:62: UserWarning: Implicit dimension choice for softmax has been deprecated. Change the call to include dim=X as an argument.\n"
     ]
    },
    {
     "data": {
      "text/plain": [
       "19.781931464174455"
      ]
     },
     "execution_count": 12,
     "metadata": {},
     "output_type": "execute_result"
    }
   ],
   "source": [
    "# Evaluate on validation set\n",
    "valid_X = torch.Tensor([i for i in df_valid['text_idx']]).to(dtype=torch.long)\n",
    "valid_y = torch.Tensor(df_valid['target'].values).to(dtype=torch.long)\n",
    "pred_valid = model(valid_X)\n",
    "get_accuracy(pred_valid, valid_y)"
   ]
  },
  {
   "cell_type": "code",
   "execution_count": 14,
   "id": "nuclear-dance",
   "metadata": {},
   "outputs": [
    {
     "name": "stdout",
     "output_type": "stream",
     "text": [
      "[[ 0 29 27 31  2 27]\n",
      " [ 0 50 57 68 22 66]\n",
      " [ 0 35 52 67 20 63]\n",
      " [ 0 30 46 69 22 81]\n",
      " [ 0 27 42 82 30 70]\n",
      " [ 0 22 24 50 20 53]]\n"
     ]
    },
    {
     "data": {
      "text/plain": [
       "<AxesSubplot:>"
      ]
     },
     "execution_count": 14,
     "metadata": {},
     "output_type": "execute_result"
    },
    {
     "data": {
      "image/png": "[encoded data removed]",
      "text/plain": [
       "<Figure size 432x288 with 2 Axes>"
      ]
     },
     "metadata": {
      "needs_background": "light"
     },
     "output_type": "display_data"
    }
   ],
   "source": [
    "import matplotlib.pyplot as plt  \n",
    "from sklearn.metrics import confusion_matrix\n",
    "pred_valid_values = [np.argmax(pred_valid[i].detach().numpy(),0) for i in range(pred_valid.shape[0])]\n",
    "cf_matrix = confusion_matrix(df_valid['target'].values, pred_valid_values)\n",
    "print(cf_matrix)\n",
    "\n",
    "import seaborn as sns\n",
    "sns.heatmap(cf_matrix, annot=True)"
   ]
  },
  {
   "cell_type": "code",
   "execution_count": 13,
   "id": "stone-strengthening",
   "metadata": {},
   "outputs": [],
   "source": [
    "# Save losses\n",
    "import pickle\n",
    "with open('fakebert_glove_loss_train.data', 'wb') as filehandle:\n",
    "    pickle.dump(loss_train, filehandle)\n",
    "with open('fakebert_glove_loss_test.data', 'wb') as filehandle:\n",
    "    pickle.dump(loss_test, filehandle)\n",
    "    \n",
    "# Save model\n",
    "torch.save(model.state_dict(), \"fakebert_glove_model.pt\")"
   ]
  },
  {
   "cell_type": "code",
   "execution_count": null,
   "id": "seventh-argentina",
   "metadata": {},
   "outputs": [],
   "source": []
  }
 ],
 "metadata": {
  "environment": {
   "name": "pytorch-gpu.1-7.m65",
   "type": "gcloud",
   "uri": "gcr.io/deeplearning-platform-release/pytorch-gpu.1-7:m65"
  },
  "kernelspec": {
   "display_name": "Python 3",
   "language": "python",
   "name": "python3"
  },
  "language_info": {
   "codemirror_mode": {
    "name": "ipython",
    "version": 3
   },
   "file_extension": ".py",
   "mimetype": "text/x-python",
   "name": "python",
   "nbconvert_exporter": "python",
   "pygments_lexer": "ipython3",
   "version": "3.7.10"
  }
 },
 "nbformat": 4,
 "nbformat_minor": 5
}
